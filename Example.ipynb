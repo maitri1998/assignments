{
 "cells": [
  {
   "cell_type": "code",
   "execution_count": 3,
   "id": "fc694f24",
   "metadata": {},
   "outputs": [
    {
     "name": "stdout",
     "output_type": "stream",
     "text": [
      "Enter Your First Value:5\n",
      "Enter Your Second Value :5\n",
      "10\n"
     ]
    }
   ],
   "source": [
    "n1 =int(input(\"Enter Your First Value:\"))\n",
    "n2 = int(input(\"Enter Your Second Value :\"))\n",
    "add = n1 + n2\n",
    "print(add)"
   ]
  },
  {
   "cell_type": "code",
   "execution_count": 4,
   "id": "03d9ccb0",
   "metadata": {},
   "outputs": [],
   "source": [
    "# prime number : 1-100\n",
    "#prim number : any no which has exactly have 2 factor"
   ]
  },
  {
   "cell_type": "code",
   "execution_count": 5,
   "id": "8aae13c1",
   "metadata": {},
   "outputs": [
    {
     "name": "stdout",
     "output_type": "stream",
     "text": [
      "Enter the no : 5\n",
      "you are not eligible to vote\n"
     ]
    }
   ],
   "source": [
    "num = int(input(\"Enter the no : \"))\n",
    "if(num>=18):\n",
    "    print (f'you are eligible to vote')\n",
    "else:\n",
    "    print(f'you are not eligible to vote')"
   ]
  },
  {
   "cell_type": "code",
   "execution_count": null,
   "id": "2cfa3f25",
   "metadata": {
    "scrolled": true
   },
   "outputs": [],
   "source": [
    "num1= int(input(\"Enter the 1st no : \"))\n",
    "num2= int(input(\"Enter the 2nd no : \"))\n",
    "if(num1>num2):\n",
    "    print(f'1st is greater')\n",
    "else:\n",
    "    print(f'2nd is greater')"
   ]
  },
  {
   "cell_type": "code",
   "execution_count": 1,
   "id": "99c4ec1d",
   "metadata": {},
   "outputs": [
    {
     "name": "stdout",
     "output_type": "stream",
     "text": [
      "Enter the 1st no : 5\n",
      "Enter the 2nd no : 5\n",
      "Enter the 3rd no : 5\n",
      "3rd is greater\n"
     ]
    }
   ],
   "source": [
    "num1= int(input(\"Enter the 1st no : \"))\n",
    "num2= int(input(\"Enter the 2nd no : \"))\n",
    "num3= int(input(\"Enter the 3rd no : \"))\n",
    "if(num1>num2):\n",
    "    if(num1>num3):\n",
    "        print(f'1st is greater')\n",
    "elif (num2>num3):\n",
    "    print(f'2nd is greater')\n",
    "else:\n",
    "    print(f'3rd is greater')"
   ]
  },
  {
   "cell_type": "code",
   "execution_count": null,
   "id": "8701eb68",
   "metadata": {},
   "outputs": [],
   "source": [
    "#volume of sphere : 4/3 * pi *  r*r*r"
   ]
  },
  {
   "cell_type": "code",
   "execution_count": 2,
   "id": "39625915",
   "metadata": {},
   "outputs": [
    {
     "name": "stdout",
     "output_type": "stream",
     "text": [
      "Enter the radius of sphere : 5\n"
     ]
    }
   ],
   "source": [
    "radius_of_sphere = float(input(\"Enter the radius of sphere : \"))\n",
    "volume_of_sphere = (1.33 * 3.14 * radius_of_sphere *  radius_of_sphere *  radius_of_sphere)"
   ]
  },
  {
   "cell_type": "code",
   "execution_count": 3,
   "id": "33ed776c",
   "metadata": {},
   "outputs": [
    {
     "name": "stdout",
     "output_type": "stream",
     "text": [
      "volume of sphere is : 522.0250000000001\n"
     ]
    }
   ],
   "source": [
    "print(f'volume of sphere is : {volume_of_sphere}')"
   ]
  },
  {
   "cell_type": "code",
   "execution_count": 4,
   "id": "4c4d8805",
   "metadata": {},
   "outputs": [
    {
     "name": "stdout",
     "output_type": "stream",
     "text": [
      "Enter the Gender :(Male/Female)male\n",
      "You are Male\n",
      "Enter your age :52\n",
      "Enter the market price :752\n",
      "67.68\n"
     ]
    }
   ],
   "source": [
    "#Example : car Insurance\n",
    "\n",
    "gender = input(\"Enter the Gender :(Male/Female)\")\n",
    "gender = gender.lower()\n",
    "if (gender == \"male\"):\n",
    "    print(\"You are Male\")\n",
    "    age = int(input(\"Enter your age :\"))\n",
    "    if(age<=26):\n",
    "        percentage = 23\n",
    "    else: \n",
    "        percentage = 9    \n",
    "elif(gender == \"female\"):\n",
    "    print(\"You are female\")\n",
    "    car_choice = input(\"Which car do you like : (sports/non-sports) \")\n",
    "    if car_choice==\"sports\":\n",
    "        print(\"You like Sports Car :\")\n",
    "        percentage = 21\n",
    "    else: \n",
    "        print(\"You like Non Sports Car :\")\n",
    "        percentage = 10\n",
    "else:\n",
    "    print(\"Wrong format\")\n",
    "market_price = int(input(\"Enter the market price :\"))\n",
    "ensurance_offer = (market_price * percentage * 0.01)\n",
    "print(f'{ensurance_offer}')"
   ]
  },
  {
   "cell_type": "code",
   "execution_count": 5,
   "id": "727a6cb2",
   "metadata": {},
   "outputs": [
    {
     "name": "stdout",
     "output_type": "stream",
     "text": [
      "Enter your username :maitri\n",
      "Enter your Password : sssssss\n",
      "Bhag ja yaha se\n"
     ]
    }
   ],
   "source": [
    "username = input(\"Enter your username :\")\n",
    "Password = input(\"Enter your Password : \")\n",
    "\n",
    "if username == \"pooja@gmail.com\" and Password == \"123456\":\n",
    "    print(\"Welcome pooja! you have sucessfully logged in\")\n",
    "elif username == \"pooja@gmail.com\" and Password != \"123456\":\n",
    "    print(\"Wrong password! Try again\")\n",
    "    PassWord = input(\"Enter your Password Again :\")\n",
    "    if Password == '123456':\n",
    "         print(\"Finally you logged in :\")\n",
    "    else:\n",
    "        print(\"Beta tumse na ho payega\")\n",
    "else:\n",
    "    print(\"Bhag ja yaha se\")"
   ]
  },
  {
   "cell_type": "code",
   "execution_count": 6,
   "id": "a2df7aa9",
   "metadata": {},
   "outputs": [
    {
     "name": "stdout",
     "output_type": "stream",
     "text": [
      "Enter year :6344\n",
      "It is a leap year\n"
     ]
    }
   ],
   "source": [
    "year = int(input(\"Enter year :\"))\n",
    "if ((year%400 == 0 and year%100 != 0 or year% 4 == 0 and year%100 != 0)):\n",
    "    print(\"It is a leap year\")\n",
    "else:\n",
    "    print(\"Its not leap year\")"
   ]
  },
  {
   "cell_type": "code",
   "execution_count": 7,
   "id": "a6ef2e85",
   "metadata": {},
   "outputs": [],
   "source": [
    "#example : in hand monthly salary after deduction on \n",
    "#CTC - HRA(10%)\n",
    "#DA (5%)\n",
    "#pf(3%)\n",
    " \n",
    "# taxes deduction\n",
    "# Salary(lakhs) : tax(%)\n",
    "#     below 5 = 0%\n",
    "#     5-10 = 10%\n",
    "#     10-0 = 20%\n",
    "#     above 20 = 30%"
   ]
  },
  {
   "cell_type": "code",
   "execution_count": 8,
   "id": "71606979",
   "metadata": {},
   "outputs": [
    {
     "name": "stdout",
     "output_type": "stream",
     "text": [
      "Enter your salary :565\n",
      "HRA is:\n",
      "your salary after hra is : 508.5\n",
      "DA is:\n",
      "your salary after da is : 480.25\n",
      "pf is:\n",
      "your salary after pf is : 463.3\n",
      "Your salary is below 5 lakhs\n",
      "Your salary amount is :  463.3\n"
     ]
    }
   ],
   "source": [
    "salary = float(input(\"Enter your salary :\"))\n",
    "hra = salary * 0.10\n",
    "print (\"HRA is:\")\n",
    "amount = (salary-hra)\n",
    "print (\"your salary after hra is :\",amount)\n",
    "da = salary * 0.05\n",
    "print (\"DA is:\")\n",
    "amount = (amount-da)\n",
    "print (\"your salary after da is :\",amount)\n",
    "pf = salary * 0.03\n",
    "print (\"pf is:\")\n",
    "amount = (amount-pf)\n",
    "print (\"your salary after pf is :\",amount)\n",
    "\n",
    "if (salary <= 500000):\n",
    "    print(\"Your salary is below 5 lakhs\") \n",
    "    tax_percentage = 0\n",
    "elif (salary <= 1000000):\n",
    "    print(\"Your salary is between 5 to 10 lakhs\") \n",
    "    tax_percentage = 10\n",
    "elif (salary <= 2000000):\n",
    "    print(\"Your salary is between 10 to 20 lakhs\") \n",
    "    tax_percentage = 20\n",
    "elif (salary > 2000000):\n",
    "    print(\"Your salary is more than 20 lakhs\") \n",
    "    tax_percentage = 30\n",
    "else:\n",
    "    print(\"Wrong format\")\n",
    "tax_charges= (amount * tax_percentage * 0.01)\n",
    "final_salary = amount-tax_charges\n",
    "print(\"Your salary amount is : \",final_salary)"
   ]
  },
  {
   "cell_type": "code",
   "execution_count": 9,
   "id": "6ab1c34b",
   "metadata": {},
   "outputs": [
    {
     "name": "stdout",
     "output_type": "stream",
     "text": [
      "Enter Number :152\n",
      "sum of digit are :2\n",
      "sum of digit are :7\n",
      "sum of digit are :8\n"
     ]
    }
   ],
   "source": [
    "#number = 125 => 1+2+5 = 8\n",
    "number = int(input(\"Enter Number :\"))\n",
    "rem = 0\n",
    "sum_of_number = 0\n",
    "while(number>0):\n",
    "    rem = number % 10\n",
    "    sum_of_number = sum_of_number + rem\n",
    "    number = number // 10\n",
    "    print(f'sum of digit are :{sum_of_number}')"
   ]
  },
  {
   "cell_type": "code",
   "execution_count": 10,
   "id": "5c97fc91",
   "metadata": {},
   "outputs": [
    {
     "name": "stdout",
     "output_type": "stream",
     "text": [
      "Enter Number :5221\n",
      "sum of digit are :1225\n"
     ]
    }
   ],
   "source": [
    "#program reverse the number\n",
    "#number = 125 => 521\n",
    "number = int(input(\"Enter Number :\"))\n",
    "rem = 0\n",
    "reverse_of_number = 0\n",
    "while(number>0):\n",
    "    rem = number % 10\n",
    "    reverse_of_number = reverse_of_number * 10 + rem\n",
    "    number = number // 10\n",
    "print(f'sum of digit are :{reverse_of_number}')"
   ]
  },
  {
   "cell_type": "code",
   "execution_count": 11,
   "id": "3fee4d73",
   "metadata": {},
   "outputs": [
    {
     "name": "stdout",
     "output_type": "stream",
     "text": [
      "Enter Number :5\n",
      "Number is palindrome\n"
     ]
    }
   ],
   "source": [
    "#Palindrom\n",
    "number = int(input(\"Enter Number :\"))\n",
    "temp = number\n",
    "rev = 0\n",
    "reverse_of_number = 0\n",
    "while(number>0):\n",
    "    rem = number % 10\n",
    "    reverse_of_number = reverse_of_number * 10 + rem\n",
    "    number = number // 10\n",
    "if(temp == reverse_of_number):\n",
    "    print(\"Number is palindrome\")\n",
    "else:\n",
    "    print(\"Number is not palindrome\")"
   ]
  },
  {
   "cell_type": "code",
   "execution_count": 12,
   "id": "31e9ee99",
   "metadata": {},
   "outputs": [],
   "source": [
    "\n",
    "# if a=50 and b=60 want to interchange number of a and b in python without using 3rd variable\n",
    "# a=50\n",
    "# b=60\n",
    "\n",
    "# want : \n",
    "# a=60\n",
    "# b=50"
   ]
  },
  {
   "cell_type": "code",
   "execution_count": 13,
   "id": "e3639bbd",
   "metadata": {},
   "outputs": [
    {
     "name": "stdout",
     "output_type": "stream",
     "text": [
      "enter value of a :54\n",
      "enter value of b :20\n",
      "a = 20\n",
      "b = 54\n"
     ]
    }
   ],
   "source": [
    "a=int(input(\"enter value of a :\"))\n",
    "b=int(input(\"enter value of b :\"))\n",
    "a,b=b,a\n",
    "print(\"a =\",a)\n",
    "print(\"b =\",b)"
   ]
  },
  {
   "cell_type": "code",
   "execution_count": 14,
   "id": "87c3ba3b",
   "metadata": {},
   "outputs": [],
   "source": [
    "# WAP to extract each digit from an integer in reverse order\n",
    "\n",
    "# ex: if the given int is 7536 the output shall be \"6 3 5 7\" with space seprating th digits."
   ]
  },
  {
   "cell_type": "code",
   "execution_count": 15,
   "id": "2f6a7667",
   "metadata": {},
   "outputs": [
    {
     "name": "stdout",
     "output_type": "stream",
     "text": [
      "enter the no :5453\n",
      "3 5 4 5 "
     ]
    }
   ],
   "source": [
    "num=int(input(\"enter the no :\"))\n",
    "revnum=0\n",
    "rem=0\n",
    "while num > 0:\n",
    "    revnum = num % 10\n",
    "    num = num // 10\n",
    "    print(revnum, end=\" \")"
   ]
  },
  {
   "cell_type": "code",
   "execution_count": null,
   "id": "ae2744f2",
   "metadata": {},
   "outputs": [],
   "source": []
  }
 ],
 "metadata": {
  "kernelspec": {
   "display_name": "Python 3 (ipykernel)",
   "language": "python",
   "name": "python3"
  },
  "language_info": {
   "codemirror_mode": {
    "name": "ipython",
    "version": 3
   },
   "file_extension": ".py",
   "mimetype": "text/x-python",
   "name": "python",
   "nbconvert_exporter": "python",
   "pygments_lexer": "ipython3",
   "version": "3.10.9"
  }
 },
 "nbformat": 4,
 "nbformat_minor": 5
}

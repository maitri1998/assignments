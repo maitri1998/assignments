{
 "cells": [
  {
   "cell_type": "code",
   "execution_count": null,
   "id": "30ac7e29",
   "metadata": {},
   "outputs": [],
   "source": [
    "                            # Module – 2 (Fundamentals of python) "
   ]
  },
  {
   "cell_type": "code",
   "execution_count": 6,
   "id": "eec8852a",
   "metadata": {},
   "outputs": [
    {
     "name": "stdout",
     "output_type": "stream",
     "text": [
      "Enter Number: -4\n",
      "This Number is Negative\n"
     ]
    }
   ],
   "source": [
    "# 1. Write a Python program to check if a number is positive, negative or zero.  \n",
    "\n",
    "num = float(input(\"Enter Number: \"))\n",
    "if num > 0:\n",
    "   print(\"This Number is Positive\")\n",
    "elif num == 0:\n",
    "   print(\"This Number is Zero\")\n",
    "else:\n",
    "   print(\"This Number is Negative\")"
   ]
  },
  {
   "cell_type": "code",
   "execution_count": 13,
   "id": "485ec37d",
   "metadata": {},
   "outputs": [
    {
     "name": "stdout",
     "output_type": "stream",
     "text": [
      "Enter Number: 5\n",
      "The factorial of 5 is 120\n"
     ]
    }
   ],
   "source": [
    "# 2. Write a Python program to get the Factorial number of given number.\n",
    "\n",
    "num = int(input(\"Enter Number: \"))    \n",
    "factorial = 1    \n",
    "if num < 0:    \n",
    "   print(\" This is not factorial no\")    \n",
    "elif num == 0:    \n",
    "   print(\"The factorial of 0 is 1\")    \n",
    "else:    \n",
    "   for i in range(1,num + 1):    \n",
    "       factorial = factorial*i    \n",
    "   print(f'The factorial of {num} is {factorial}')   "
   ]
  },
  {
   "cell_type": "code",
   "execution_count": 19,
   "id": "1b886511",
   "metadata": {},
   "outputs": [
    {
     "name": "stdout",
     "output_type": "stream",
     "text": [
      "Enter number for Fibonacci series: 10\n",
      "0 1 1 2 3 5 8 13 21 34 "
     ]
    }
   ],
   "source": [
    "# 3. Write a Python program to get the Fibonacci series of given range.  \n",
    "\n",
    "\n",
    "num = int(input(\"Enter number for Fibonacci series: \"))\n",
    "num1 = 0\n",
    "num2 = 1\n",
    "another_number = 0\n",
    "count = 1\n",
    "  \n",
    "while(count <= num):\n",
    "    print(another_number, end=\" \")\n",
    "    count += 1\n",
    "    num1 = num2\n",
    "    num2 = another_number\n",
    "    another_number = num1 + num2\n",
    "    add = num1 + num2"
   ]
  },
  {
   "cell_type": "code",
   "execution_count": null,
   "id": "70441c71",
   "metadata": {},
   "outputs": [],
   "source": [
    "# 4. Write python program that swap two number with temp variable and without temp variable.\n",
    "\n",
    "a=int(input(\"enter value of a :\"))\n",
    "b=int(input(\"enter value of b :\"))\n",
    "b=a+b\n",
    "a=b-a\n",
    "b=b-a\n",
    "print(\"a =\",a)\n",
    "print(\"b =\",b)"
   ]
  },
  {
   "cell_type": "code",
   "execution_count": 27,
   "id": "72fb0bf9",
   "metadata": {},
   "outputs": [
    {
     "name": "stdout",
     "output_type": "stream",
     "text": [
      "Enter Number: 7\n",
      "Number is Odd\n"
     ]
    }
   ],
   "source": [
    "# 5. Write a Python program to find whether a given number is even or odd, print out an appropriate message to the user. \n",
    "\n",
    "num = int(input(\"Enter Number: \"))  \n",
    "if (num % 2) == 0:  \n",
    "   print(\"Number is Even\")  \n",
    "else:  \n",
    "   print(\"Number is Odd\")  "
   ]
  },
  {
   "cell_type": "code",
   "execution_count": 30,
   "id": "92f8025b",
   "metadata": {},
   "outputs": [
    {
     "name": "stdout",
     "output_type": "stream",
     "text": [
      "Enter a character: a\n",
      "The character a is a vowel\n"
     ]
    }
   ],
   "source": [
    "# 6. Write a Python program to test whether a passed letter is a vowel or not.  \n",
    "\n",
    "char = input(\"Enter a character: \")  \n",
    "  \n",
    "vowels = ['a', 'e', 'i', 'o', 'u', 'A', 'E', 'I', 'O', 'U']  \n",
    "    \n",
    "if char in vowels:  \n",
    "    print(f'The character {char} is a vowel')  \n",
    "else:  \n",
    "    print(f'The character {char} is a consonant')  "
   ]
  },
  {
   "cell_type": "code",
   "execution_count": 47,
   "id": "a3b1a36f",
   "metadata": {},
   "outputs": [
    {
     "name": "stdout",
     "output_type": "stream",
     "text": [
      "Enter first Number: 8\n",
      "Enter second Number: 9\n",
      "Enter third Number: 9\n",
      "The sum is : 0\n"
     ]
    }
   ],
   "source": [
    "# 7. Write a Python program to sum of three given integers. However, if two values are equal sum will be zero. \n",
    "\n",
    "num1 = int(input(\"Enter first Number: \"))  \n",
    "num2 = int(input(\"Enter second Number: \")) \n",
    "num3 = int(input(\"Enter third Number: \")) \n",
    "\n",
    "if num1 == num2 or num2 == num3 or num3 == num1: \n",
    "    sum = 0 \n",
    "else: \n",
    "    sum = (num1 + num2 + num3) \n",
    "print(f'The sum is : {sum}')\n"
   ]
  },
  {
   "cell_type": "code",
   "execution_count": 59,
   "id": "1afb9447",
   "metadata": {},
   "outputs": [
    {
     "name": "stdout",
     "output_type": "stream",
     "text": [
      "Enter first Number: 7\n",
      "Enter second Number: 3\n",
      "False\n"
     ]
    }
   ],
   "source": [
    "# 8. Write a Python program that will return true if the two given integer values are equal or their sum or difference is 5. \n",
    "\n",
    "num1 = int(input(\"Enter first Number: \"))  \n",
    "num2 = int(input(\"Enter second Number: \"))\n",
    "def result(num1, num2):\n",
    "    if(num1 == num2 or abs(num1-num2) == 5 or abs(num1+num2) == 5):\n",
    "        return True\n",
    "    else:\n",
    "        return False\n",
    "print(result(num1, num2))"
   ]
  },
  {
   "cell_type": "code",
   "execution_count": 64,
   "id": "5c5acb94",
   "metadata": {},
   "outputs": [
    {
     "name": "stdout",
     "output_type": "stream",
     "text": [
      "Enter a positive integer: 20\n",
      "positive integers :210.0\n"
     ]
    }
   ],
   "source": [
    "# 9. Write a python program to sum of the first n positive integers.  \n",
    "\n",
    "num = int(input(\"Enter a positive integer: \"))\n",
    "sum = num * (num+1) / 2\n",
    "print(f'positive integers :{sum}')"
   ]
  },
  {
   "cell_type": "code",
   "execution_count": 3,
   "id": "f0bf98b5",
   "metadata": {},
   "outputs": [
    {
     "name": "stdout",
     "output_type": "stream",
     "text": [
      "Enter string to check length: check string length\n",
      "Length of string is:  19\n"
     ]
    }
   ],
   "source": [
    "# 10. Write a Python program to calculate the length of a string.  \n",
    "\n",
    "string = input(\"Enter string to check length: \")\n",
    "count = 0\n",
    "for s in string:\n",
    "      count = count+1\n",
    "print(\"Length of string is: \", count)"
   ]
  },
  {
   "cell_type": "code",
   "execution_count": 5,
   "id": "54a568e2",
   "metadata": {},
   "outputs": [
    {
     "name": "stdout",
     "output_type": "stream",
     "text": [
      "Enter String: maitri\n",
      "{'m': 1, 'a': 1, 'i': 2, 't': 1, 'r': 1}\n"
     ]
    }
   ],
   "source": [
    "# 11. Write a Python program to count the number of characters (character frequency) in a string  \n",
    "\n",
    "string = input(\"Enter String: \")\n",
    "string = string.lower()\n",
    "str={}\n",
    "for i in string:\n",
    "    if i in str:\n",
    "        str[i]+=1\n",
    "    else:\n",
    "        str[i]=1\n",
    "print(str)"
   ]
  },
  {
   "cell_type": "code",
   "execution_count": 16,
   "id": "6e3a5aca",
   "metadata": {},
   "outputs": [
    {
     "name": "stdout",
     "output_type": "stream",
     "text": [
      "Number of occurrence of string is : 5\n"
     ]
    }
   ],
   "source": [
    "# 12. Write a Python program to count occurrences of a substring in a string.  \n",
    "\n",
    "str1 = 'I am learning python from Tops Technologies'\n",
    "print('Number of occurrence of string is :',str1.count(\"o\"))\n"
   ]
  },
  {
   "cell_type": "code",
   "execution_count": 19,
   "id": "08503d08",
   "metadata": {},
   "outputs": [
    {
     "name": "stdout",
     "output_type": "stream",
     "text": [
      "Enter string : my name is maitri desai now i become to maitri pandya\n",
      "Enter word : maitri\n",
      "Count of the word is :  2\n"
     ]
    }
   ],
   "source": [
    "# 13. Write a Python program to count the occurrences of each word in a given sentence  \n",
    "\n",
    "string=input(\"Enter string : \")\n",
    "word=input(\"Enter word : \")\n",
    "a=[]\n",
    "count=0\n",
    "a=string.split(\" \")\n",
    "for i in range(0,len(a)):\n",
    "      if(word==a[i]):\n",
    "            count=count+1\n",
    "print(\"Count of the word is : \",count)"
   ]
  },
  {
   "cell_type": "code",
   "execution_count": 1,
   "id": "86ad2e27",
   "metadata": {},
   "outputs": [
    {
     "name": "stdout",
     "output_type": "stream",
     "text": [
      "enter value of a :desai\n",
      "enter value of b :pandya\n",
      "After Swaping String : pasai   dendya\n"
     ]
    }
   ],
   "source": [
    "# 14. Write a Python program to get a single string from two given strings, separated by a space and swap the first two characters of each string. \n",
    "\n",
    "str1= input(\"enter value of a :\")\n",
    "str2= input(\"enter value of b :\")\n",
    "\n",
    "char1 = str2[:2] + str1[2:]\n",
    "char2 = str1[:2] + str2[2:]\n",
    "print(\"After Swaping String :\",char1,\" \",char2)"
   ]
  },
  {
   "cell_type": "code",
   "execution_count": 8,
   "id": "554d2d2e",
   "metadata": {},
   "outputs": [
    {
     "name": "stdout",
     "output_type": "stream",
     "text": [
      "Enter String :having\n",
      "havingly\n"
     ]
    }
   ],
   "source": [
    "# 15. Write a Python program to add 'ing' at the end of a given string (length should be at least 3). If the given string already ends with 'ing' then add 'ly' instead if the string length of the given string is less than 3, leave it unchanged. \n",
    "\n",
    "string = input(\"Enter String :\")\n",
    "if len(string) < 3:\n",
    "  print(string)\n",
    "elif string[-3:] == 'ing':\n",
    "  print(string + 'ly')\n",
    "else:\n",
    "  print(string + 'ing')\n"
   ]
  },
  {
   "cell_type": "code",
   "execution_count": 1,
   "id": "b52ac70d",
   "metadata": {},
   "outputs": [
    {
     "name": "stdout",
     "output_type": "stream",
     "text": [
      "enter a string : I am not happy beacause i am poor\n",
      "I am good\n"
     ]
    }
   ],
   "source": [
    "# 16. Write a Python program to find the first appearance of the substring 'not' and 'poor' from a given string, if 'not' follows the 'poor', replace the whole 'not'...'poor' substring with 'good'. Return the resulting string.\n",
    "\n",
    "string = input(\"enter a string : \")\n",
    "str_not = string.find('not')\n",
    "str_poor = string.find('poor')\n",
    "\n",
    "if str_not < str_poor and str_not != -1:\n",
    "    str_new = string[:str_not] + 'good' + string[str_poor+4:]\n",
    "else:\n",
    "    str_new = string\n",
    "\n",
    "print(str_new)"
   ]
  },
  {
   "cell_type": "code",
   "execution_count": 4,
   "id": "23d4cc65",
   "metadata": {},
   "outputs": [
    {
     "name": "stdout",
     "output_type": "stream",
     "text": [
      "Enter Words : my name is Maitri\n",
      "length of the longest one : 6\n"
     ]
    }
   ],
   "source": [
    "# 17.  Write a Python function that takes a list of words and returns the length of the longest one.\n",
    "\n",
    "list_of_words = input(\"Enter Words : \")\n",
    "\n",
    "list = list_of_words.split()\n",
    "\n",
    "max_length = 0\n",
    "for word in list:\n",
    "    if len(word) > max_length:\n",
    "        max_length = len(word)\n",
    "\n",
    "print(f'length of the longest one : {max_length}')"
   ]
  },
  {
   "cell_type": "code",
   "execution_count": 4,
   "id": "5508a77d",
   "metadata": {},
   "outputs": [
    {
     "name": "stdout",
     "output_type": "stream",
     "text": [
      "Enter String : MaitriPandya\n",
      "Reverse string is : aydnaPirtiaM\n"
     ]
    }
   ],
   "source": [
    "# 18. Write a Python function to reverses a string if its length is a multiple of 4.\n",
    "\n",
    "string=input(\"Enter String : \")\n",
    "\n",
    "if(len(string)%4==0):\n",
    "    print(f'Reverse string is : {string[::-1]}')\n",
    "else:\n",
    "    print(\"can nor reverse\")\n"
   ]
  },
  {
   "cell_type": "code",
   "execution_count": 8,
   "id": "02260d69",
   "metadata": {},
   "outputs": [
    {
     "name": "stdout",
     "output_type": "stream",
     "text": [
      "Enter String : Maitri\n",
      "New String : Mari\n"
     ]
    }
   ],
   "source": [
    "# 19. Write a Python program to get a string made of the first 2 and the last 2 chars from a given a string. If the string length is less than 2, return instead of the empty string.\n",
    "\n",
    "string=input(\"Enter String : \")\n",
    "count = 0\n",
    "for i in string:\n",
    "      count = count + 1\n",
    "newStr = string[ 0:2 ] + string [count - 2: count ]\n",
    "\n",
    "print(\"New String : \"+ newStr)"
   ]
  },
  {
   "cell_type": "code",
   "execution_count": 15,
   "id": "f601932e",
   "metadata": {},
   "outputs": [
    {
     "name": "stdout",
     "output_type": "stream",
     "text": [
      "Enter String : my name is and age is 24\n",
      "New String : my name is Maitri and age is 24\n"
     ]
    }
   ],
   "source": [
    "# 20. Write a Python function to insert a string in the middle of a string. \n",
    "\n",
    "string=input(\"Enter String : \")\n",
    "middle_string = \"Maitri\"\n",
    "temp = string.split()\n",
    "middle_position = len(temp) // 2\n",
    "result = temp[:middle_position] + [middle_string] + temp[middle_position:]\n",
    "result = ' '.join(result)\n",
    "print(\"New String : \" + str(result))"
   ]
  },
  {
   "cell_type": "code",
   "execution_count": 16,
   "id": "5a1183e7",
   "metadata": {},
   "outputs": [],
   "source": [
    "                          # Module – 3 (Collections, functions and Modules) "
   ]
  },
  {
   "cell_type": "code",
   "execution_count": 24,
   "id": "f3be3490",
   "metadata": {},
   "outputs": [
    {
     "name": "stdout",
     "output_type": "stream",
     "text": [
      "Enter Total Number of List : 5\n",
      "Enter the Value of 1 : 9\n",
      "Enter the Value of 2 : 5\n",
      "Enter the Value of 3 : 4\n",
      "Enter the Value of 4 : 63\n",
      "Enter the Value of 5 : 5\n",
      "Smallest Number in List is :  4\n",
      "Largest Number in List is :  63\n",
      "Sum of List is :  86\n"
     ]
    }
   ],
   "source": [
    "# 1. Write a Python function to get the largest number, smallest num and sum of all from a list. \n",
    "\n",
    "numList = []\n",
    "num = int(input(\"Enter Total Number of List : \"))\n",
    "for i in range(1, num + 1):\n",
    "    value = int(input(\"Enter the Value of %d : \" %i))\n",
    "    numList.append(value)\n",
    "    list_sum = sum(numList)\n",
    "\n",
    "print(\"Smallest Number in List is : \", min(numList))\n",
    "print(\"Largest Number in List is : \", max(numList))\n",
    "print(\"Sum of List is : \", sum(numList))"
   ]
  },
  {
   "cell_type": "code",
   "execution_count": 25,
   "id": "06df1e74",
   "metadata": {},
   "outputs": [
    {
     "name": "stdout",
     "output_type": "stream",
     "text": [
      "Both List are equal\n"
     ]
    }
   ],
   "source": [
    "# 2.  How will you compare two lists?  \n",
    "\n",
    "list1 = [11, 12, 13, 14, 15]  \n",
    "list2 = [12, 13, 11, 15, 14]  \n",
    "  \n",
    "a = set(list1)  \n",
    "b = set(list2)  \n",
    "  \n",
    "if a == b:  \n",
    "    print(\"Both List are equal\")  \n",
    "else:  \n",
    "    print(\"List are not equal\")  "
   ]
  },
  {
   "cell_type": "code",
   "execution_count": 53,
   "id": "53b44b1b",
   "metadata": {},
   "outputs": [
    {
     "name": "stdout",
     "output_type": "stream",
     "text": [
      "The number of strings are the same: 1\n"
     ]
    }
   ],
   "source": [
    "# 3. Write a Python program to count the number of strings where the string length is 2 or more and the first and last character are same from a given list of strings.  \n",
    "\n",
    "def count_strings(strings):\n",
    "   count = 0\n",
    "   for string in strings:\n",
    "       if len(string) >= 2 and string[0] == string[-1]:\n",
    "           count += 1\n",
    "   return count\n",
    "strings = ['dmk','mdp','dmd','1998','2023']\n",
    "result = count_strings(strings)\n",
    "print(\"The number of strings are the same:\", result)\n"
   ]
  },
  {
   "cell_type": "code",
   "execution_count": 57,
   "id": "07747802",
   "metadata": {},
   "outputs": [
    {
     "name": "stdout",
     "output_type": "stream",
     "text": [
      "Enter Total Number of List : 5\n",
      "Enter the Value of 1 : 19\n",
      "Enter the Value of 2 : 35\n",
      "Enter the Value of 3 : 47\n",
      "Enter the Value of 4 : 96\n",
      "Enter the Value of 5 : 19\n",
      "The list is: [19, 35, 47, 96, 19]\n",
      "The list after removing duplicates: [96, 35, 19, 47]\n"
     ]
    }
   ],
   "source": [
    "# 4. Write a Python program to remove duplicates from a list.\n",
    "\n",
    "numList = []\n",
    "num = int(input(\"Enter Total Number of List : \"))\n",
    "for i in range(1, num + 1):\n",
    "    value = int(input(\"Enter the Value of %d : \" %i))\n",
    "    numList.append(value)\n",
    "print (\"The list is : \" + str(numList)) \n",
    "numList = list(set(numList)) \n",
    "print (\"The list after removing duplicates : \" + str(numList)) "
   ]
  },
  {
   "cell_type": "code",
   "execution_count": 63,
   "id": "c509e38a",
   "metadata": {},
   "outputs": [
    {
     "name": "stdout",
     "output_type": "stream",
     "text": [
      "List is Empty \n"
     ]
    }
   ],
   "source": [
    "# 5. Write a Python program to check a list is empty or not.  \n",
    "\n",
    "numList = []\n",
    "if len(numList) == 0:\n",
    "   print('List is Empty ')\n",
    "else:\n",
    "   print('List is Not Empty')"
   ]
  },
  {
   "cell_type": "code",
   "execution_count": 6,
   "id": "75b4bdbe",
   "metadata": {},
   "outputs": [
    {
     "name": "stdout",
     "output_type": "stream",
     "text": [
      "Enter Total Number of List 1 : 5\n",
      "Enter the Value of 1 : 1\n",
      "Enter the Value of 2 : 2\n",
      "Enter the Value of 3 : 3\n",
      "Enter the Value of 4 : 4\n",
      "Enter the Value of 5 : 5\n",
      "Enter Total Number of List 2: 5\n",
      "Enter the Value of 1 : 6\n",
      "Enter the Value of 2 : 7\n",
      "Enter the Value of 3 : 8\n",
      "Enter the Value of 4 : 9\n",
      "Enter the Value of 5 : 10\n",
      "The list is : [1, 2, 3, 4, 5]\n",
      "The list is : [6, 7, 8, 9, 10]\n",
      "True\n",
      "Lists have atleast one common member\n"
     ]
    }
   ],
   "source": [
    "# 6. Write a Python function that takes two lists and returns true if they have at least one common member.  \n",
    "\n",
    "numList1 = []\n",
    "numList2 = []\n",
    "num = int(input(\"Enter Total Number of List 1 : \"))\n",
    "for i in range(1, num + 1):\n",
    "    value = int(input(\"Enter the Value of %d : \" %i))\n",
    "    numList1.append(value)\n",
    "    \n",
    "num = int(input(\"Enter Total Number of List 2: \"))\n",
    "for i in range(1, num + 1):\n",
    "    value = int(input(\"Enter the Value of %d : \" %i))\n",
    "    numList2.append(value)\n",
    "    \n",
    "print (\"The list is : \" + str(numList1)) \n",
    "print (\"The list is : \" + str(numList2)) \n",
    "    \n",
    "for list1 in numList1:\n",
    " for list2 in numList2:\n",
    "    if list1 == list2:\n",
    "        result = True\n",
    "if result:\n",
    "    print(result)\n",
    "    print(\"Lists have atleast one common member\")\n",
    "else:\n",
    "    result = False\n",
    "    print(result)\n",
    "    print(\"Lists not have any common member\")"
   ]
  },
  {
   "cell_type": "code",
   "execution_count": 9,
   "id": "5350e886",
   "metadata": {},
   "outputs": [
    {
     "name": "stdout",
     "output_type": "stream",
     "text": [
      "[1, 4, 9, 16, 25]\n",
      "[625, 676, 729, 784, 841]\n"
     ]
    }
   ],
   "source": [
    "# 7. Write a Python program to generate and print a list of first and last 5 elements where the values are square of numbers between 1 and 30.\n",
    "\n",
    "def Values():\n",
    "    l = list()\n",
    "    for i in range(1,30):\n",
    "        l.append(i**2)\n",
    "    print(l[:5])\n",
    "    print(l[-5:])\n",
    "Values()"
   ]
  },
  {
   "cell_type": "code",
   "execution_count": 40,
   "id": "53b20fa2",
   "metadata": {},
   "outputs": [
    {
     "name": "stdout",
     "output_type": "stream",
     "text": [
      "Unique list is : [25, 35, 42, 52, 36, 75, 88, 9, 1]\n"
     ]
    }
   ],
   "source": [
    "# 8. Write a Python function that takes a list and returns a new list with unique elements of the first list.\n",
    "\n",
    "def uniquelist(lst):\n",
    "  numlist = []\n",
    "  for num in lst:\n",
    "    if num not in numlist:\n",
    "      numlist.append(num)\n",
    "  return numlist\n",
    "\n",
    "print(\"Unique list is :\",uniquelist([25,35,42,52,25,36,42,75,88,9,1,52])) "
   ]
  },
  {
   "cell_type": "code",
   "execution_count": 6,
   "id": "ad9ba949",
   "metadata": {},
   "outputs": [
    {
     "name": "stdout",
     "output_type": "stream",
     "text": [
      "String is : MAITRI\n"
     ]
    }
   ],
   "source": [
    "# 9.Write a Python program to convert a list of characters into a string. \n",
    "\n",
    "char = ['M','A','I','T','R','I']\n",
    "str1 = ''.join(char)\n",
    "print(\"String is :\",str1)"
   ]
  },
  {
   "cell_type": "code",
   "execution_count": 10,
   "id": "14c0d946",
   "metadata": {},
   "outputs": [
    {
     "name": "stdout",
     "output_type": "stream",
     "text": [
      "Enter Total Number of List : 5\n",
      "Enter the Value of 1 : 8\n",
      "Enter the Value of 2 : 7\n",
      "Enter the Value of 3 : 6\n",
      "Enter the Value of 4 : 4\n",
      "Enter the Value of 5 : 5\n",
      "The list is : [8, 7, 6, 4, 5]\n",
      "Random Number is : 7\n"
     ]
    }
   ],
   "source": [
    "# 10. Write a Python program to select an item randomly from a list. \n",
    "\n",
    "import random\n",
    "\n",
    "numList = []\n",
    "num = int(input(\"Enter Total Number of List : \"))\n",
    "for i in range(1, num + 1):\n",
    "    value = int(input(\"Enter the Value of %d : \" %i))\n",
    "    numList.append(value)\n",
    "print (\"The list is : \" + str(numList)) \n",
    "numList = list(set(numList)) \n",
    "random_element = random.choice(numList)\n",
    "print(\"Random Number is :\",random_element)"
   ]
  },
  {
   "cell_type": "code",
   "execution_count": 12,
   "id": "c139f5c1",
   "metadata": {},
   "outputs": [
    {
     "name": "stdout",
     "output_type": "stream",
     "text": [
      "Enter Total Number of List : 5\n",
      "Enter the Value of 1 : 63\n",
      "Enter the Value of 2 : 47\n",
      "Enter the Value of 3 : 52\n",
      "Enter the Value of 4 : 40\n",
      "Enter the Value of 5 : 0\n",
      "The list is : [63, 47, 52, 40, 0]\n",
      "second smallest number in a list :  40\n"
     ]
    }
   ],
   "source": [
    "# 11.Write a Python program to find the second smallest number in a list. \n",
    "\n",
    "numList = []\n",
    "num = int(input(\"Enter Total Number of List : \"))\n",
    "for i in range(1, num + 1):\n",
    "    value = int(input(\"Enter the Value of %d : \" %i))\n",
    "    numList.append(value)\n",
    "print (\"The list is : \" + str(numList)) \n",
    "numList = list(set(numList)) \n",
    "sorted_list = sorted(numList)\n",
    "print(\"second smallest number in a list : \",sorted_list[1])"
   ]
  },
  {
   "cell_type": "code",
   "execution_count": 13,
   "id": "4c3ef8d2",
   "metadata": {},
   "outputs": [
    {
     "name": "stdout",
     "output_type": "stream",
     "text": [
      "Enter Total Number of List : 5\n",
      "Enter the Value of 1 : 6\n",
      "Enter the Value of 2 : 7\n",
      "Enter the Value of 3 : 8\n",
      "Enter the Value of 4 : 6\n",
      "Enter the Value of 5 : 8\n",
      "The list is : [6, 7, 8, 6, 8]\n",
      "New List {8, 6, 7}\n"
     ]
    }
   ],
   "source": [
    "# Write a Python program to get unique values from a list  \n",
    "\n",
    "numList = []\n",
    "num = int(input(\"Enter Total Number of List : \"))\n",
    "for i in range(1, num + 1):\n",
    "    value = int(input(\"Enter the Value of %d : \" %i))\n",
    "    numList.append(value)\n",
    "print (\"The list is : \" + str(numList)) \n",
    "numList = list(set(numList)) \n",
    "print(\"New List\",set(numList))"
   ]
  },
  {
   "cell_type": "code",
   "execution_count": 16,
   "id": "e5001e3e",
   "metadata": {},
   "outputs": [
    {
     "name": "stdout",
     "output_type": "stream",
     "text": [
      "Enter Total Number of List : 5\n",
      "Enter the Value of 1 : 1\n",
      "Enter the Value of 2 : 2\n",
      "Enter the Value of 3 : 3\n",
      "Enter the Value of 4 : 4\n",
      "Enter the Value of 5 : 5\n",
      "Enter Total Number of Sub List : 3\n",
      "Enter the Value of 1 : 1\n",
      "Enter the Value of 2 : 4\n",
      "Enter the Value of 3 : 3\n",
      "The list is : [1, 2, 3, 4, 5]\n",
      "The Sub list is : [1, 4, 3]\n",
      "sublist is in list ? : False\n"
     ]
    }
   ],
   "source": [
    "# Write a Python program to check whether a list contains a sub list  \n",
    "\n",
    "numList = []\n",
    "subList = []\n",
    "num = int(input(\"Enter Total Number of List : \"))\n",
    "for i in range(1, num + 1):\n",
    "    value = int(input(\"Enter the Value of %d : \" %i))\n",
    "    numList.append(value)\n",
    "\n",
    "num = int(input(\"Enter Total Number of Sub List : \"))\n",
    "for i in range(1, num + 1):\n",
    "    value = int(input(\"Enter the Value of %d : \" %i))\n",
    "    subList.append(value)\n",
    "\n",
    "print (\"The list is : \" + str(numList)) \n",
    "print (\"The Sub list is : \" + str(subList)) \n",
    "res = False\n",
    "for idx in range(len(numList) - len(subList) + 1):\n",
    "    if numList[idx: idx + len(subList)] == subList:\n",
    "        res = True\n",
    "        break\n",
    "print(\"sublist is in list ? : \" + str(res))"
   ]
  },
  {
   "cell_type": "code",
   "execution_count": 29,
   "id": "460371fc",
   "metadata": {},
   "outputs": [
    {
     "name": "stdout",
     "output_type": "stream",
     "text": [
      "Maitri\n",
      "Desai\n",
      "Pandya\n"
     ]
    }
   ],
   "source": [
    "# Write a Python program to split a list into different variables.  \n",
    "\n",
    "list = ['Maitri', 'Desai', 'Pandya']\n",
    "var1, var2, var3 = list\n",
    "print(var1)\n",
    "print(var2)\n",
    "print(var3)\n"
   ]
  },
  {
   "cell_type": "code",
   "execution_count": 33,
   "id": "b0997320",
   "metadata": {},
   "outputs": [
    {
     "name": "stdout",
     "output_type": "stream",
     "text": [
      "Maitri type is <class 'str'>\n",
      "1998 type is <class 'int'>\n",
      "4.56 type is <class 'float'>\n",
      "True type is <class 'bool'>\n"
     ]
    }
   ],
   "source": [
    "# Write a Python program to create a tuple with different data types.  \n",
    "\n",
    "tup = ('Maitri', 1998, 4.56, True)\n",
    "for i in tup:\n",
    "    print(i, 'type is', type(i))\n"
   ]
  },
  {
   "cell_type": "code",
   "execution_count": 38,
   "id": "7984cb29",
   "metadata": {},
   "outputs": [
    {
     "name": "stdout",
     "output_type": "stream",
     "text": [
      "(25, 36, 98, 12, 74)\n"
     ]
    }
   ],
   "source": [
    "#  Write a Python program to create a tuple with numbers. \n",
    "\n",
    "tup = 25,36,98,12,74\n",
    "print(tup)"
   ]
  },
  {
   "cell_type": "code",
   "execution_count": 40,
   "id": "2272616c",
   "metadata": {},
   "outputs": [
    {
     "name": "stdout",
     "output_type": "stream",
     "text": [
      "Maitri\n"
     ]
    }
   ],
   "source": [
    "# Write a Python program to convert a tuple to a string. \n",
    "\n",
    "tup = ('M','a','i','t','r','i')\n",
    "string = ''.join(tup)\n",
    "print(string)"
   ]
  },
  {
   "cell_type": "code",
   "execution_count": 48,
   "id": "2465a536",
   "metadata": {},
   "outputs": [
    {
     "name": "stdout",
     "output_type": "stream",
     "text": [
      "2 is in tuple\n",
      "3 is not in tuple\n"
     ]
    }
   ],
   "source": [
    "# Write a Python program to check whether an element exists within a tuple.  \n",
    "\n",
    "tup = (12,18,66,33,74,20,2)\n",
    "\n",
    "if 2 in tup:\n",
    "    print('2 is in tuple')\n",
    "else:\n",
    "    print('2 is NOT in tuple')\n",
    "if 3 in tup:\n",
    "    print('3 is in tuple')\n",
    "else:\n",
    "    print('3 is not in tuple')"
   ]
  },
  {
   "cell_type": "code",
   "execution_count": 54,
   "id": "9d54efdf",
   "metadata": {},
   "outputs": [
    {
     "name": "stdout",
     "output_type": "stream",
     "text": [
      "Length of tuple is : 4\n"
     ]
    }
   ],
   "source": [
    "# Write a Python program to find the length of a tuple. \n",
    "\n",
    "tup = ('Maitri', '24', 2.45,'Desai')\n",
    "print('Length of tuple is :',len(tup))"
   ]
  },
  {
   "cell_type": "code",
   "execution_count": 56,
   "id": "a89693eb",
   "metadata": {},
   "outputs": [
    {
     "name": "stdout",
     "output_type": "stream",
     "text": [
      "('Maitri', 'Desai', 24)\n"
     ]
    }
   ],
   "source": [
    "# Write a Python program to convert a list to a tuple.\n",
    "\n",
    "lst = ['Maitri', 'Desai', 24]\n",
    "tup = tuple(lst)\n",
    "print(tup)"
   ]
  },
  {
   "cell_type": "code",
   "execution_count": 57,
   "id": "28af65da",
   "metadata": {},
   "outputs": [
    {
     "name": "stdout",
     "output_type": "stream",
     "text": [
      "('Desai', 2.45, '24', 'Maitri')\n"
     ]
    }
   ],
   "source": [
    "# Write a Python program to reverse a tuple.  \n",
    "\n",
    "tup = ('Maitri', '24', 2.45,'Desai')\n",
    "reverse_tuple = tup[::-1]\n",
    "print(reverse_tuple)\n"
   ]
  },
  {
   "cell_type": "code",
   "execution_count": 62,
   "id": "68bc4fa2",
   "metadata": {},
   "outputs": [
    {
     "name": "stdout",
     "output_type": "stream",
     "text": [
      "New List is : [('Maitri', '24', 2.45, 'Pandya'), ('Tops', 'Pandya')]\n"
     ]
    }
   ],
   "source": [
    "# Write a Python program to replace last value of tuples in a list.\n",
    "\n",
    "lst = [('Maitri', '24', 2.45,'Desai'), ('Tops','Technologies')]\n",
    "\n",
    "new_list = [i[:len(i)-1]+('Pandya',) for i in lst]\n",
    "print('New List is :',new_list)"
   ]
  },
  {
   "cell_type": "code",
   "execution_count": 72,
   "id": "128c139b",
   "metadata": {},
   "outputs": [
    {
     "name": "stdout",
     "output_type": "stream",
     "text": [
      "Repeted Item in tuplr is : {2, 4, 5}\n"
     ]
    }
   ],
   "source": [
    "# Write a Python program to find the repeated items of a tuple. \n",
    "\n",
    "tup = (2, 4, 5, 6, 2, 3, 4, 4, 7 ,5)\n",
    "repeated_items = []\n",
    "for i in tup:\n",
    "    if tup.count(i) > 1:\n",
    "        repeated_items.append(i)\n",
    "print('Repeted Item in tuplr is :',set(repeated_items))"
   ]
  },
  {
   "cell_type": "code",
   "execution_count": 86,
   "id": "037a6d12",
   "metadata": {},
   "outputs": [
    {
     "name": "stdout",
     "output_type": "stream",
     "text": [
      "New List is : [('Maitri', '24', 2.45, ''), ('Tops', 'Technologies')]\n"
     ]
    }
   ],
   "source": [
    "#Write a Python program to remove an empty tuple(s) from a list of tuples.  \n",
    "\n",
    "lst = [('Maitri', '24', 2.45,''),(), ('Tops','Technologies')]\n",
    "\n",
    "new_list = [i for i in lst if i]\n",
    "print('New List is :',new_list)"
   ]
  },
  {
   "cell_type": "code",
   "execution_count": 95,
   "id": "9d962f1e",
   "metadata": {},
   "outputs": [
    {
     "name": "stdout",
     "output_type": "stream",
     "text": [
      "{'Maitri': 1998, 'Darpan': 20, 'Pandya': 52, 'Desai': 66}\n"
     ]
    }
   ],
   "source": [
    "# Write a Python program to convert a list of tuples into a dictionary. \n",
    "\n",
    "my_list = [('Maitri', 1998), ('Darpan', 20), ('Pandya', 52), ('Desai', 66)]\n",
    "my_dict = {i[0]:i[1] for i in my_list}\n",
    "print(my_dict)\n"
   ]
  },
  {
   "cell_type": "code",
   "execution_count": 111,
   "id": "959b0560",
   "metadata": {},
   "outputs": [
    {
     "name": "stdout",
     "output_type": "stream",
     "text": [
      "Dictionary :  {'A': 'maitri', 'B': 'Pandya'}\n",
      "Dictionary in ascending order by value :  [('B', 'Pandya'), ('A', 'maitri')]\n",
      "Dictionary in descending order by value :  {'A': 'maitri', 'B': 'Pandya'}\n"
     ]
    }
   ],
   "source": [
    "# Write a Python script to sort (ascending and descending) a dictionary by value. \n",
    "\n",
    "import operator\n",
    "dicts = dic = {'A' : \"maitri\", 'B' : \"Pandya\"}\n",
    "print('Dictionary : ',dicts)\n",
    "sorted_dicts = sorted(dicts.items(), key=operator.itemgetter(1))\n",
    "print('Dictionary in ascending order by value : ',sorted_dicts)\n",
    "sorted_dicts = dict( sorted(dicts.items(), key=operator.itemgetter(1),reverse=True))\n",
    "print('Dictionary in descending order by value : ',sorted_dicts)"
   ]
  },
  {
   "cell_type": "code",
   "execution_count": 115,
   "id": "0a58f927",
   "metadata": {},
   "outputs": [
    {
     "name": "stdout",
     "output_type": "stream",
     "text": [
      "{'Name': 'Maitr', 'Age': 24, 'DOB': '10 Dec', 'Gender': 'Female', 'Town': 'Vadodara'}\n"
     ]
    }
   ],
   "source": [
    "# Write a Python script to concatenate following dictionaries to create a new one.\n",
    "\n",
    "dicts1={\"Name\":\"Maitr\" , \"Age\":24}\n",
    "dicts2={\"DOB\": \"10 Dec\", \"Gender\": \"Female\"}\n",
    "dicts3={\"Town\":\"Vadodara\"}\n",
    "dicts4 = {}\n",
    "for dicts in (dicts1, dicts2, dicts3): dicts4.update(dicts)\n",
    "print(dicts4)"
   ]
  },
  {
   "cell_type": "code",
   "execution_count": 120,
   "id": "366fc35c",
   "metadata": {},
   "outputs": [
    {
     "name": "stdout",
     "output_type": "stream",
     "text": [
      "dictionary :  {'Name': 'Maitr', 'Surname': 'Desai', 'Age': 24}\n",
      "Key is : Desai\n",
      "Key is not Present.\n"
     ]
    }
   ],
   "source": [
    "# Write a Python script to check if a given key already exists in a dictionary.\n",
    "\n",
    "Adict = {\"Name\":\"Maitr\", \"Surname\":\"Desai\" , \"Age\":24}\n",
    "print(\"dictionary : \",Adict)\n",
    "check_key = \"Desai\"\n",
    "print(\"Key is :\",check_key)\n",
    "if check_key in Adict:\n",
    "   print(\"Key is Present.\")\n",
    "else:\n",
    "   print(\"Key is not Present.\")"
   ]
  },
  {
   "cell_type": "code",
   "execution_count": 123,
   "id": "6c17c546",
   "metadata": {},
   "outputs": [
    {
     "name": "stdout",
     "output_type": "stream",
     "text": [
      "Enter the Limit : 5\n",
      "{1: 1, 2: 4, 3: 9, 4: 16, 5: 25}\n"
     ]
    }
   ],
   "source": [
    "# Write a Python script to print a dictionary where the keys are numbers between 1 and 15.\n",
    "\n",
    "num=int(input(\"Enter the Limit : \"))\n",
    "dists = dict()\n",
    "for x in range(1,num+1):\n",
    "    dists[x]=x**2\n",
    "print(dists)"
   ]
  },
  {
   "cell_type": "code",
   "execution_count": 124,
   "id": "776864cf",
   "metadata": {},
   "outputs": [
    {
     "name": "stdout",
     "output_type": "stream",
     "text": [
      "True\n",
      "False\n",
      "False\n"
     ]
    }
   ],
   "source": [
    "# Write a Python program to check multiple keys exists in a dictionary\n",
    "\n",
    "Adict = {\"Name\":\"Maitr\", \"Surname\":\"Desai\" , \"Age\":24, \"Vadodara\":\"City\"}\n",
    "print(Adict.keys() >= {'Surname', 'Name'})\n",
    "print(Adict.keys() >= {'Age', 'City'})\n",
    "print(Adict.keys() >= {'Pandya', 'Desai'})\n"
   ]
  },
  {
   "cell_type": "code",
   "execution_count": 126,
   "id": "bd7777e4",
   "metadata": {},
   "outputs": [
    {
     "name": "stdout",
     "output_type": "stream",
     "text": [
      "{'Name': 'Maitr', 'Surname': 'Desai', 'Age': 24, 'Vadodara': 'City'}\n"
     ]
    }
   ],
   "source": [
    "# Write a Python script to merge two Python dictionaries\n",
    "\n",
    "dict1 = {\"Name\":\"Maitr\", \"Surname\":\"Surname\"}\n",
    "dict2 = {\"Age\":24, \"Vadodara\":\"City\"}\n",
    "\n",
    "for key in dict2:               \n",
    "    dict1[key] = dict2[key]  \n",
    "\n",
    "print(dict1)"
   ]
  },
  {
   "cell_type": "code",
   "execution_count": 128,
   "id": "226e6248",
   "metadata": {},
   "outputs": [
    {
     "name": "stdout",
     "output_type": "stream",
     "text": [
      "{'Name': 'Maitri', 'Surname': 'Surname', 'Age': 24}\n"
     ]
    }
   ],
   "source": [
    "# Write a Python program to map two lists into a dictionary \n",
    "\n",
    "dict_key = ['Name', 'Surname', 'Age']\n",
    "dict_values = ['Maitri','Surname', 24]\n",
    "dict1 = dict(zip(dict_key, dict_values))\n",
    "print(dict1)"
   ]
  },
  {
   "cell_type": "code",
   "execution_count": 130,
   "id": "df684a36",
   "metadata": {},
   "outputs": [
    {
     "name": "stdout",
     "output_type": "stream",
     "text": [
      "Counter({'a': 400, 'b': 400, 'd': 400, 'c': 300})\n"
     ]
    }
   ],
   "source": [
    "# Write a Python program to combine two dictionary adding values for common keys. d1 = {'a': 100, 'b': 200, 'c':300} o d2 = {'a': 300, 'b': 200,’d’:400} Sample output: Counter ({'a': 400, 'b': 400,’d’: 400, 'c': 300})\n",
    "\n",
    "from collections import Counter\n",
    "d1 = {'a': 100, 'b': 200, 'c':300}\n",
    "d2 = {'a': 300, 'b': 200, 'd':400}\n",
    "d = Counter(d1) + Counter(d2)\n",
    "print(d)"
   ]
  },
  {
   "cell_type": "code",
   "execution_count": 133,
   "id": "ab69a568",
   "metadata": {},
   "outputs": [
    {
     "name": "stdout",
     "output_type": "stream",
     "text": [
      "Original List :  [{'Name': 'Maitri'}, {'Surname': 'Desai'}, {'Age': 24}, {'Vadodara': 'City'}]\n",
      "Unique Values :  {'Maitri', 24, 'Desai', 'City'}\n"
     ]
    }
   ],
   "source": [
    "#  Write a Python program to print all unique values in a dictionary.\n",
    "\n",
    "Lst = [{\"Name\":\"Maitri\"}, {\"Surname\":\"Desai\"}, {\"Age\":24}, {\"Vadodara\":\"City\"}]\n",
    "print(\"Original List : \",Lst)\n",
    "unique_value = set( val for dic in Lst for val in dic.values())\n",
    "print(\"Unique Values : \",unique_value)"
   ]
  },
  {
   "cell_type": "code",
   "execution_count": 141,
   "id": "a19043b9",
   "metadata": {},
   "outputs": [
    {
     "name": "stdout",
     "output_type": "stream",
     "text": [
      "ac\n",
      "ad\n",
      "bc\n",
      "bd\n"
     ]
    }
   ],
   "source": [
    "# Write a Python program to create and display all combinations of letters, selecting each letter from a different key in a dictionary. Sample data: {'1': ['a','b'], '2': ['c','d']}  \n",
    "\n",
    "        #  Expected Output: ac ad bc bd\n",
    "    \n",
    "import itertools            \n",
    "dicts ={'1':['a','b'], '2':['c','d']}\n",
    "for combo in itertools.product(*[dicts[k] for k in sorted(dicts.keys())]):\n",
    "    print(''.join(combo))"
   ]
  },
  {
   "cell_type": "code",
   "execution_count": 147,
   "id": "31b2db4d",
   "metadata": {},
   "outputs": [
    {
     "name": "stdout",
     "output_type": "stream",
     "text": [
      "the highest 3 values are [75, 85, 96]\n",
      "their keys are (not in order) ['a', 'd', 'f']\n"
     ]
    }
   ],
   "source": [
    "#  Write a Python program to find the highest 3 values in a dictionary\n",
    "\n",
    "dicts = {'a': 75, 'b': 22, 'c': 42, 'd': 85, 'e': 12, 'f': 96, 'x':0 }\n",
    "sorted_list = sorted(set(dicts.values()))\n",
    "print(\"the highest 3 values are\", sorted_list[-3:])\n",
    "keys_highest_values = []\n",
    "for key in dicts:\n",
    "    if dicts[key] in sorted_list[-3:]:\n",
    "        keys_highest_values.append(key)\n",
    "print(\"their keys are (not in order)\", keys_highest_values)"
   ]
  },
  {
   "cell_type": "code",
   "execution_count": 152,
   "id": "af93e240",
   "metadata": {},
   "outputs": [
    {
     "name": "stdout",
     "output_type": "stream",
     "text": [
      "Counter({'item1': 1150, 'item2': 300})\n"
     ]
    }
   ],
   "source": [
    "#  Write a Python program to combine values in python list of dictionaries. Sample data: [{'item': 'item1', 'amount': 400}, {'item': 'item2', 'amount': 300}, o {'item': 'item1', 'amount': 750}]  \n",
    "\n",
    "         # Expected Output: Counter ({'item1': 1150, 'item2': 300})  \n",
    "    \n",
    "    \n",
    "from collections import Counter\n",
    "lst = [{'item': 'item1', 'amount': 400}, {'item': 'item2', 'amount': 300}, {'item': 'item1', 'amount': 750}]\n",
    "result = Counter()\n",
    "for d in lst:\n",
    "    result[d['item']] += d['amount']\n",
    "print(result) "
   ]
  },
  {
   "cell_type": "code",
   "execution_count": 156,
   "id": "31a97349",
   "metadata": {},
   "outputs": [
    {
     "name": "stdout",
     "output_type": "stream",
     "text": [
      "{'3': 1, 's': 1, 'r': 1, 'u': 1, 'w': 1, 'c': 1, 'e': 1, 'o': 1}\n"
     ]
    }
   ],
   "source": [
    "#  Write a Python program to create a dictionary from a string. Note: Track the count of the letters from the string. Sample string: 'w3resource' \n",
    "\n",
    "          # Expected output: {'3': 1,’s’: 1, 'r': 2, 'u': 1, 'w': 1, 'c': 1, 'e': 2, 'o': 1}  \n",
    "    \n",
    "from collections import defaultdict, Counter\n",
    "str1 = '3sruwceo' \n",
    "my_dict = {}\n",
    "for letter in str1:\n",
    "    my_dict[letter] = my_dict.get(letter, 0) + 1\n",
    "print(my_dict)"
   ]
  },
  {
   "cell_type": "code",
   "execution_count": 162,
   "id": "f9971588",
   "metadata": {},
   "outputs": [
    {
     "name": "stdout",
     "output_type": "stream",
     "text": [
      "Enter a number: 5\n",
      "The factorial of :5 is 120\n"
     ]
    }
   ],
   "source": [
    "#  Write a Python function to calculate the factorial of a number (a nonnegative integer) \n",
    "\n",
    "num = int(input(\"Enter a number: \"))    \n",
    "factorial = 1    \n",
    "if num < 0:    \n",
    "   print(\" Factorial does not exist\")    \n",
    "elif num == 0:    \n",
    "   print(\"The factorial of 0 is 1\")    \n",
    "else:    \n",
    "   for i in range(1,num + 1):    \n",
    "       factorial = factorial*i    \n",
    "   print(f'The factorial of :{num} is {factorial}')    "
   ]
  },
  {
   "cell_type": "code",
   "execution_count": 164,
   "id": "da482861",
   "metadata": {},
   "outputs": [
    {
     "name": "stdout",
     "output_type": "stream",
     "text": [
      " 5 is in the range\n"
     ]
    }
   ],
   "source": [
    "# Write a Python function to check whether a number is in a given range\n",
    "\n",
    "def rng(n):\n",
    "    if n in range(3,9):\n",
    "        print( \" %s is in the range\"%str(n))\n",
    "    else :\n",
    "        print(\" not in range.\")\n",
    "rng(5)"
   ]
  },
  {
   "cell_type": "code",
   "execution_count": 167,
   "id": "9a4b2d41",
   "metadata": {},
   "outputs": [
    {
     "name": "stdout",
     "output_type": "stream",
     "text": [
      "Enter  number: 6\n",
      "number is a perfect\n"
     ]
    }
   ],
   "source": [
    "# Write a Python function to check whether a number is perfect or not\n",
    "\n",
    "num=int(input(\"Enter  number: \"))  \n",
    "sum1=0  \n",
    "for i in range(1,num):  \n",
    "    if (num%i==0):  \n",
    "        sum1=sum1+i  \n",
    "if(sum1==num):  \n",
    "    print(\"number is a perfect\")  \n",
    "else:  \n",
    "    print(\"number is not a perfect\")  "
   ]
  },
  {
   "cell_type": "code",
   "execution_count": 6,
   "id": "b809f819",
   "metadata": {},
   "outputs": [
    {
     "name": "stdout",
     "output_type": "stream",
     "text": [
      "Enter string:coc\n",
      "String is palindrome\n"
     ]
    }
   ],
   "source": [
    "# Write a Python function that checks whether a passed string is palindrome or not\n",
    "\n",
    "def str_palindrome(s):\n",
    "    if len(s) < 1:\n",
    "        return True\n",
    "    else:\n",
    "        if s[0] == s[-1]:\n",
    "            return str_palindrome(s[1:-1])\n",
    "        else:\n",
    "            return False\n",
    "string = str(input(\"Enter string:\"))\n",
    "if(str_palindrome(string)==True):\n",
    "    print(\"String is palindrome\")\n",
    "else:\n",
    "    print(\"String is not palindrome\")"
   ]
  },
  {
   "cell_type": "code",
   "execution_count": 9,
   "id": "6ea85a61",
   "metadata": {},
   "outputs": [
    {
     "name": "stdout",
     "output_type": "stream",
     "text": [
      "Welcome to Python\n"
     ]
    }
   ],
   "source": [
    "#  Write a Python program to read a random line from a file.  \n",
    "\n",
    "import random\n",
    "def random_file(fname):\n",
    "    lines = open(fname).read().splitlines()\n",
    "    return random.choice(lines)\n",
    "print(random_file('hello.txt'))"
   ]
  },
  {
   "cell_type": "code",
   "execution_count": 11,
   "id": "057076f0",
   "metadata": {},
   "outputs": [
    {
     "name": "stdout",
     "output_type": "stream",
     "text": [
      "Input degree: 30\n",
      "0.5235987755983333\n"
     ]
    }
   ],
   "source": [
    "# Write a Python program to convert degree to radian \n",
    "\n",
    "pi=3.14159265359\n",
    "degree = float(input(\"Input degree: \"))\n",
    "radian = degree*(pi/180)\n",
    "print(radian)"
   ]
  },
  {
   "cell_type": "code",
   "execution_count": 14,
   "id": "906d1c24",
   "metadata": {},
   "outputs": [
    {
     "name": "stdout",
     "output_type": "stream",
     "text": [
      "Enter the First Base of a Trapezoid : 7\n",
      "Enter the Second Base of a Trapezoid : 8\n",
      "Enter the Height of a Trapezoid : 4\n",
      "The Area of a trapezoid :  30.0\n"
     ]
    }
   ],
   "source": [
    "#  Write a Python program to calculate the area of a trapezoid \n",
    "\n",
    "Base1 = float(input('Enter the First Base of a Trapezoid : '))\n",
    "Base2 = float(input('Enter the Second Base of a Trapezoid : '))\n",
    "Height_of_Trapezoid= float(input('Enter the Height of a Trapezoid : '))\n",
    "area = 0.5 * (Base1 + Base2) * Height_of_Trapezoid\n",
    "print(\"The Area of a trapezoid : \",area)"
   ]
  },
  {
   "cell_type": "code",
   "execution_count": null,
   "id": "e19a570f",
   "metadata": {},
   "outputs": [],
   "source": [
    "                                    # Module – 4 (Advance python programming) "
   ]
  },
  {
   "cell_type": "code",
   "execution_count": 19,
   "id": "6aaef357",
   "metadata": {},
   "outputs": [
    {
     "name": "stdout",
     "output_type": "stream",
     "text": [
      "Welcome to Python\n",
      "True\n"
     ]
    }
   ],
   "source": [
    "# Write a Python program to read an entire text file. \n",
    "\n",
    "with open('hello.txt') as f:\n",
    "    read_data = f.read()\n",
    "    print(read_data)\n",
    "print(f.closed)"
   ]
  },
  {
   "cell_type": "code",
   "execution_count": 23,
   "id": "31d329d8",
   "metadata": {},
   "outputs": [
    {
     "name": "stdout",
     "output_type": "stream",
     "text": [
      "Welcome to Pythoni am doing assignment of python  i am doing assignment of python \\i am doing assignment of python i am doing assignment of python \n"
     ]
    }
   ],
   "source": [
    "#  Write a Python program to append text to a file and display the text. \n",
    "\n",
    "f = open('hello.txt', 'a')\n",
    "f.write('i am doing assignment of python ')\n",
    "f.close()\n",
    "f = open('hello.txt', 'r')\n",
    "print(f.read())\n",
    "f.close()"
   ]
  },
  {
   "cell_type": "code",
   "execution_count": 27,
   "id": "2b080856",
   "metadata": {},
   "outputs": [
    {
     "name": "stdout",
     "output_type": "stream",
     "text": [
      "Welcome to Pythoni am doing assignment of python  \n",
      "\n",
      "i am doing assignment of python \n",
      "\n"
     ]
    }
   ],
   "source": [
    "#  Write a Python program to read first n lines of a file.  \n",
    "\n",
    "n = 2\n",
    "f = open('hello.txt')\n",
    "for i in range(n):\n",
    "    print(f.readline())\n",
    "f.close()"
   ]
  },
  {
   "cell_type": "code",
   "execution_count": 29,
   "id": "725f9c14",
   "metadata": {},
   "outputs": [
    {
     "name": "stdout",
     "output_type": "stream",
     "text": [
      "Welcome to Pythoni am doing assignment of python  \n",
      "\n",
      "i am doing assignment of python \n",
      "\n",
      "i am doing assignment of python \n",
      "\n",
      "i am doing assignment of python \n"
     ]
    }
   ],
   "source": [
    "#  Write a Python program to read last n lines of a file.\n",
    "\n",
    "n = 4\n",
    "f = open('hello.txt')\n",
    "lines = list(f)\n",
    "for line in lines[-n:]:\n",
    "    print(line)\n",
    "f.close()"
   ]
  },
  {
   "cell_type": "code",
   "execution_count": 35,
   "id": "8a8c7d9f",
   "metadata": {},
   "outputs": [
    {
     "name": "stdout",
     "output_type": "stream",
     "text": [
      "['Welcome to Pythoni am doing assignment of python', 'i am doing assignment of python', 'i am doing assignment of python', 'i am doing assignment of python']\n"
     ]
    }
   ],
   "source": [
    "# Write a Python program to read a file line by line and store it into a list  Write a Python program to read a file line by line store it into a variable. \n",
    "\n",
    "with open(\"hello.txt\") as f:\n",
    "    content_list = [x.strip() for x in content_list]\n",
    "print(content_list)"
   ]
  },
  {
   "cell_type": "code",
   "execution_count": 38,
   "id": "23e4b4c6",
   "metadata": {},
   "outputs": [
    {
     "name": "stdout",
     "output_type": "stream",
     "text": [
      "Longest word in file is : assignment\n"
     ]
    }
   ],
   "source": [
    "# Write a python program to find the longest words.\n",
    "\n",
    "with open('hello.txt') as f:\n",
    "    lines = list(f)\n",
    "    longest = ''\n",
    "    for line in lines:\n",
    "        for word in line.split():\n",
    "            if len(longest) < len(word):\n",
    "                longest = word\n",
    "    print(f'Longest word in file is : {longest}')"
   ]
  },
  {
   "cell_type": "code",
   "execution_count": 40,
   "id": "3ef2b5ef",
   "metadata": {},
   "outputs": [
    {
     "name": "stdout",
     "output_type": "stream",
     "text": [
      "Total lines iin file is : 4\n"
     ]
    }
   ],
   "source": [
    "# Write a Python program to count the number of lines in a text file.\n",
    "\n",
    "with open('hello.txt') as f:\n",
    "    print(\"Total lines iin file is :\",len(list(f)))"
   ]
  },
  {
   "cell_type": "code",
   "execution_count": 43,
   "id": "79b6340e",
   "metadata": {},
   "outputs": [
    {
     "name": "stdout",
     "output_type": "stream",
     "text": [
      "Number of words in file : Counter({'am': 4, 'doing': 4, 'assignment': 4, 'of': 4, 'python': 4, 'i': 3, 'Welcome': 1, 'to': 1, 'Pythoni': 1})\n"
     ]
    }
   ],
   "source": [
    "#  Write a Python program to count the frequency of words in a file. \n",
    "\n",
    "from collections import Counter\n",
    "def total_count(fname):\n",
    "        with open(fname) as f:\n",
    "                return Counter(f.read().split())\n",
    "\n",
    "print(\"Number of words in file :\",total_count(\"hello.txt\"))"
   ]
  },
  {
   "cell_type": "code",
   "execution_count": 45,
   "id": "6b236690",
   "metadata": {},
   "outputs": [],
   "source": [
    "# Write a Python program to write a list to a file.\n",
    "\n",
    "lst = [1, 2, 3, 4]\n",
    "with open('hello_1.txt', 'w+') as f:\n",
    "    f.write(' '.join(map(str, lst)))"
   ]
  },
  {
   "cell_type": "code",
   "execution_count": 46,
   "id": "ccaf1007",
   "metadata": {},
   "outputs": [],
   "source": [
    "#  Write a Python program to copy the contents of a file to another file. \n",
    "\n",
    "f = open('hello.txt')\n",
    "f1 = open('hello_1.txt', 'a')\n",
    "f1.write(f.read())\n",
    "f.close()\n",
    "f1.close()"
   ]
  },
  {
   "cell_type": "code",
   "execution_count": 50,
   "id": "ee970336",
   "metadata": {},
   "outputs": [
    {
     "name": "stdout",
     "output_type": "stream",
     "text": [
      "Enter an odd number: 6\n",
      "Even numbers are not allowed.\n",
      "Enter an odd number: 5\n",
      "You entered: 5\n"
     ]
    }
   ],
   "source": [
    "# Write python program that user to enter only odd numbers, else will raise an exception.\n",
    "\n",
    "def odd_number():\n",
    "    while True:\n",
    "        try:\n",
    "            number = int(input(\"Enter an odd number: \"))\n",
    "            if number % 2 != 0:\n",
    "                return number\n",
    "            else:\n",
    "                raise ValueError(\"Even numbers are not allowed.\")\n",
    "        except ValueError as e:\n",
    "            print(e)\n",
    "odd_number = odd_number()\n",
    "print(\"You entered:\", odd_number)"
   ]
  },
  {
   "cell_type": "code",
   "execution_count": 52,
   "id": "28706919",
   "metadata": {},
   "outputs": [
    {
     "name": "stdout",
     "output_type": "stream",
     "text": [
      "New Rectangle : 120\n"
     ]
    }
   ],
   "source": [
    "# Write a Python class named Rectangle constructed by a length and width and a method which will compute the area of a rectangle\n",
    "\n",
    "class Rectangle():\n",
    "    def __init__(self, l, w):\n",
    "        self.length = l\n",
    "        self.width  = w\n",
    "\n",
    "    def rectangle_area(self):\n",
    "        return self.length*self.width\n",
    "\n",
    "newRectangle = Rectangle(12, 10)\n",
    "print(\"New Rectangle :\",newRectangle.rectangle_area())"
   ]
  },
  {
   "cell_type": "code",
   "execution_count": 53,
   "id": "c8b5e49a",
   "metadata": {},
   "outputs": [
    {
     "name": "stdout",
     "output_type": "stream",
     "text": [
      "New Circle Area :  200.96\n",
      "New Circle Parameter :  50.24\n"
     ]
    }
   ],
   "source": [
    "# Write a Python class named Circle constructed by a radius and two methods which will compute the area and the perimeter of a circle \n",
    "\n",
    "class Circle():\n",
    "    def __init__(self, r):\n",
    "        self.radius = r\n",
    "\n",
    "    def area(self):\n",
    "        return self.radius**2*3.14\n",
    "    \n",
    "    def perimeter(self):\n",
    "        return 2*self.radius*3.14\n",
    "\n",
    "NewCircle = Circle(8)\n",
    "print(\"New Circle Area : \",NewCircle.area())\n",
    "print(\"New Circle Parameter : \",NewCircle.perimeter())"
   ]
  }
 ],
 "metadata": {
  "kernelspec": {
   "display_name": "Python 3 (ipykernel)",
   "language": "python",
   "name": "python3"
  },
  "language_info": {
   "codemirror_mode": {
    "name": "ipython",
    "version": 3
   },
   "file_extension": ".py",
   "mimetype": "text/x-python",
   "name": "python",
   "nbconvert_exporter": "python",
   "pygments_lexer": "ipython3",
   "version": "3.10.9"
  }
 },
 "nbformat": 4,
 "nbformat_minor": 5
}

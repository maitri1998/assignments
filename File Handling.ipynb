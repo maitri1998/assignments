{
 "cells": [
  {
   "cell_type": "code",
   "execution_count": 1,
   "id": "dff39986",
   "metadata": {},
   "outputs": [],
   "source": [
    "#6/7/2023\n",
    "\n",
    "#File Handling"
   ]
  },
  {
   "cell_type": "code",
   "execution_count": 3,
   "id": "9dced366",
   "metadata": {},
   "outputs": [],
   "source": [
    "# module os :\n",
    "#     operating system interfaces including function to work with files at lower level than python file object.\n",
    "    \n",
    "# module io :\n",
    "#     python built-in I/O library, including both abstract classes and sone concreate classes such as file I/O\n",
    "    \n",
    "# Built-in function open() :\n",
    "#     the standard way to open filesfor reading and writing with python"
   ]
  },
  {
   "cell_type": "code",
   "execution_count": 5,
   "id": "b65affd8",
   "metadata": {},
   "outputs": [],
   "source": [
    "# 'r' :\n",
    "#     open for reading (default)\n",
    "# 'w' :\n",
    "#     open for writing, truncating the file first\n",
    "# 'x' :\n",
    "#     open for exclusive creation, failing if the file already exists\n",
    "# 'a' :\n",
    "#     open for writing, appending to the end of file if it exists\n",
    "# 'b' :\n",
    "#     binary mode\n",
    "# 't' :\n",
    "#     text mod(default)\n",
    "# '+' :\n",
    "#     open for updating (reading and writing)"
   ]
  },
  {
   "cell_type": "code",
   "execution_count": 7,
   "id": "ee62e763",
   "metadata": {},
   "outputs": [
    {
     "name": "stdout",
     "output_type": "stream",
     "text": [
      "<_io.TextIOWrapper name='Welcome.txt' mode='w' encoding='cp1252'>\n"
     ]
    }
   ],
   "source": [
    "fs = open (\"Welcome.txt\",'w')\n",
    "print(fs)"
   ]
  },
  {
   "cell_type": "code",
   "execution_count": 14,
   "id": "fe446a4e",
   "metadata": {},
   "outputs": [
    {
     "name": "stdout",
     "output_type": "stream",
     "text": [
      "<built-in method read of _io.TextIOWrapper object at 0x0000020CCDA0B850>\n"
     ]
    }
   ],
   "source": [
    "fs = open(\"Welcome.txt\",'r')\n",
    "print(fs.read)"
   ]
  },
  {
   "cell_type": "code",
   "execution_count": 15,
   "id": "f53e1577",
   "metadata": {},
   "outputs": [
    {
     "name": "stdout",
     "output_type": "stream",
     "text": [
      "<_io.TextIOWrapper name='Welcome.txt' mode='r' encoding='cp1252'>\n"
     ]
    }
   ],
   "source": [
    "print(fs)"
   ]
  },
  {
   "cell_type": "code",
   "execution_count": 16,
   "id": "fd6ea608",
   "metadata": {},
   "outputs": [
    {
     "name": "stdout",
     "output_type": "stream",
     "text": [
      "import math # import math library to gain access to its code\n",
      " \n",
      "def compute_square_root(number):\n",
      "    # compute the square root using the math library\n",
      "    result = math.sqr(number)\n",
      "    return result\n",
      " \n",
      "if __name__ == '__main__':\n",
      "    # get input to compute from user\n",
      "    number = int(input(\"Compute Square root of: \"))\n",
      "    # call function to compute square root\n"
     ]
    }
   ],
   "source": [
    "fs = open(\"Welcome.txt\",'r')\n",
    "print(fs.read())"
   ]
  },
  {
   "cell_type": "code",
   "execution_count": 17,
   "id": "5b03ef83",
   "metadata": {},
   "outputs": [],
   "source": [
    "# Behavior modes :\n",
    "#     1. Read - r, r+, w+,a+,x+\n",
    "#     2. write - r+, w, w+,a, a+,x+\n",
    "#     3. create - w,w+,a,a+,x,x+\n",
    "#     4. pointer position start r,r+,w,w+,x,x+\n",
    "#     5. pointer position end - a,a+\n",
    "#     6. truncate (clear content) - w,w+\n",
    "#     7. must exist - r,r+\n",
    "#     8. must not exist - x,x+"
   ]
  },
  {
   "cell_type": "code",
   "execution_count": 30,
   "id": "482cb2d5",
   "metadata": {},
   "outputs": [
    {
     "name": "stdout",
     "output_type": "stream",
     "text": [
      "<_io.TextIOWrapper name='Welcome.txt' mode='a+' encoding='cp1252'>\n"
     ]
    }
   ],
   "source": [
    "fs = open(\"Welcome.txt\", 'a+')\n",
    "fs.write(\"My name is maitri\")\n",
    "print(fs)"
   ]
  },
  {
   "cell_type": "code",
   "execution_count": 27,
   "id": "90e39274",
   "metadata": {},
   "outputs": [
    {
     "name": "stdout",
     "output_type": "stream",
     "text": [
      "<_io.TextIOWrapper name='Welcome.txt' mode='r+' encoding='cp1252'>\n"
     ]
    }
   ],
   "source": [
    "fs = open (\"Welcome.txt\",'r+')\n",
    "print(fs)"
   ]
  },
  {
   "cell_type": "code",
   "execution_count": 43,
   "id": "29c0dde1",
   "metadata": {},
   "outputs": [
    {
     "name": "stdout",
     "output_type": "stream",
     "text": [
      "<_io.TextIOWrapper name='Welcome.txt' mode='r' encoding='cp1252'>\n"
     ]
    }
   ],
   "source": [
    "fs = open (\"Welcome.txt\")\n",
    "print(fs)"
   ]
  },
  {
   "cell_type": "code",
   "execution_count": 47,
   "id": "332d260b",
   "metadata": {},
   "outputs": [
    {
     "name": "stdout",
     "output_type": "stream",
     "text": [
      "None\n"
     ]
    }
   ],
   "source": [
    "fs = os.remove(\"mmkk.txt\")\n",
    "print(fs)"
   ]
  },
  {
   "cell_type": "code",
   "execution_count": 1,
   "id": "43f574ee",
   "metadata": {},
   "outputs": [],
   "source": [
    "#11/7/23\n",
    "\n",
    "# OS"
   ]
  },
  {
   "cell_type": "code",
   "execution_count": 2,
   "id": "74b697a3",
   "metadata": {},
   "outputs": [],
   "source": [
    "import os"
   ]
  },
  {
   "cell_type": "code",
   "execution_count": 3,
   "id": "9f95fb64",
   "metadata": {},
   "outputs": [],
   "source": [
    "os.rename(\"hello.txt\", \"hello_1.txt\")"
   ]
  },
  {
   "cell_type": "code",
   "execution_count": 4,
   "id": "86ae9ba9",
   "metadata": {},
   "outputs": [],
   "source": [
    "os.remove(\"mk.txt\")"
   ]
  },
  {
   "cell_type": "code",
   "execution_count": 6,
   "id": "b1f13ae2",
   "metadata": {},
   "outputs": [],
   "source": [
    "with open(\"hello.txt\",'w+') as f:\n",
    "    data = f.write(\"Welcome to Python\")"
   ]
  },
  {
   "cell_type": "code",
   "execution_count": 7,
   "id": "d6724d96",
   "metadata": {},
   "outputs": [],
   "source": [
    "os.mkdir(\"Lec1\")"
   ]
  },
  {
   "cell_type": "code",
   "execution_count": 9,
   "id": "98443306",
   "metadata": {},
   "outputs": [],
   "source": [
    "os.removedirs(\"Lec1\")"
   ]
  },
  {
   "cell_type": "code",
   "execution_count": 11,
   "id": "4e9faea8",
   "metadata": {},
   "outputs": [
    {
     "name": "stdout",
     "output_type": "stream",
     "text": [
      "C:\\Users\\MAITRI\\Documents\n"
     ]
    }
   ],
   "source": [
    "result = os.getcwd()\n",
    "print(result)"
   ]
  },
  {
   "cell_type": "code",
   "execution_count": 13,
   "id": "1320f42a",
   "metadata": {},
   "outputs": [],
   "source": [
    "os.mkdir(\"Lec1\")"
   ]
  },
  {
   "cell_type": "code",
   "execution_count": 14,
   "id": "1650eca8",
   "metadata": {},
   "outputs": [],
   "source": [
    "os.chdir(\"Lec1\")"
   ]
  },
  {
   "cell_type": "code",
   "execution_count": 15,
   "id": "d20a2e0a",
   "metadata": {},
   "outputs": [
    {
     "name": "stdout",
     "output_type": "stream",
     "text": [
      "C:\\Users\\MAITRI\\Documents\\Lec1\n"
     ]
    }
   ],
   "source": [
    "result = os.getcwd()\n",
    "print(result)"
   ]
  },
  {
   "cell_type": "code",
   "execution_count": 16,
   "id": "734eae11",
   "metadata": {},
   "outputs": [],
   "source": [
    "import shutil"
   ]
  },
  {
   "cell_type": "code",
   "execution_count": null,
   "id": "a0ee49f0",
   "metadata": {},
   "outputs": [],
   "source": [
    "shutil.move"
   ]
  }
 ],
 "metadata": {
  "kernelspec": {
   "display_name": "Python 3 (ipykernel)",
   "language": "python",
   "name": "python3"
  },
  "language_info": {
   "codemirror_mode": {
    "name": "ipython",
    "version": 3
   },
   "file_extension": ".py",
   "mimetype": "text/x-python",
   "name": "python",
   "nbconvert_exporter": "python",
   "pygments_lexer": "ipython3",
   "version": "3.10.9"
  }
 },
 "nbformat": 4,
 "nbformat_minor": 5
}
